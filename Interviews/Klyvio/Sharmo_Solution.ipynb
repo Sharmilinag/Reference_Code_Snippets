{
 "cells": [
  {
   "cell_type": "markdown",
   "metadata": {},
   "source": [
    "## Import the relevant Modules"
   ]
  },
  {
   "cell_type": "code",
   "execution_count": 54,
   "metadata": {},
   "outputs": [],
   "source": [
    "import pandas as pd\n",
    "import numpy as np\n",
    "from datetime import datetime\n",
    "from scipy import stats\n",
    "import matplotlib.pyplot as plt\n",
    "from sklearn.metrics import confusion_matrix\n",
    "import warnings\n",
    "warnings.filterwarnings('ignore')"
   ]
  },
  {
   "cell_type": "markdown",
   "metadata": {},
   "source": [
    "## Global Constants"
   ]
  },
  {
   "cell_type": "code",
   "execution_count": 55,
   "metadata": {},
   "outputs": [],
   "source": [
    "DATA_FILE = '/home/ubuntu/Sharmo_Notebooks/Klyvio/data.csv'\n",
    "DATE_FORMAT_24_HOURS = '%Y-%m-%d %H:%M:%S'\n",
    "DATE_FORMAT_12_HOURS = '%Y-%m-%d %I:%M:%S %p'"
   ]
  },
  {
   "cell_type": "markdown",
   "metadata": {},
   "source": [
    "## Read the Input Data File"
   ]
  },
  {
   "cell_type": "code",
   "execution_count": 56,
   "metadata": {},
   "outputs": [],
   "source": [
    "datetime_parser = lambda x: pd.datetime.strptime(x, DATE_FORMAT_24_HOURS)\n",
    "df = pd.read_csv(DATA_FILE, parse_dates=['date'], date_parser=datetime_parser)"
   ]
  },
  {
   "cell_type": "markdown",
   "metadata": {},
   "source": [
    "# Solution to Problem A"
   ]
  },
  {
   "cell_type": "code",
   "execution_count": 74,
   "metadata": {},
   "outputs": [
    {
     "data": {
      "text/html": [
       "<div>\n",
       "<style scoped>\n",
       "    .dataframe tbody tr th:only-of-type {\n",
       "        vertical-align: middle;\n",
       "    }\n",
       "\n",
       "    .dataframe tbody tr th {\n",
       "        vertical-align: top;\n",
       "    }\n",
       "\n",
       "    .dataframe thead th {\n",
       "        text-align: right;\n",
       "    }\n",
       "</style>\n",
       "<table border=\"1\" class=\"dataframe\">\n",
       "  <thead>\n",
       "    <tr style=\"text-align: right;\">\n",
       "      <th></th>\n",
       "      <th>customer_id</th>\n",
       "      <th>gender</th>\n",
       "      <th>most_recent_order_date</th>\n",
       "      <th>order_count</th>\n",
       "    </tr>\n",
       "  </thead>\n",
       "  <tbody>\n",
       "    <tr>\n",
       "      <th>0</th>\n",
       "      <td>1000</td>\n",
       "      <td>0</td>\n",
       "      <td>2017-01-01 12:11:31 AM</td>\n",
       "      <td>1</td>\n",
       "    </tr>\n",
       "    <tr>\n",
       "      <th>1</th>\n",
       "      <td>1001</td>\n",
       "      <td>0</td>\n",
       "      <td>2017-01-01 12:29:56 AM</td>\n",
       "      <td>1</td>\n",
       "    </tr>\n",
       "    <tr>\n",
       "      <th>2</th>\n",
       "      <td>1002</td>\n",
       "      <td>1</td>\n",
       "      <td>2017-02-19 09:35:31 PM</td>\n",
       "      <td>3</td>\n",
       "    </tr>\n",
       "    <tr>\n",
       "      <th>3</th>\n",
       "      <td>1003</td>\n",
       "      <td>1</td>\n",
       "      <td>2017-04-26 02:37:20 AM</td>\n",
       "      <td>4</td>\n",
       "    </tr>\n",
       "    <tr>\n",
       "      <th>4</th>\n",
       "      <td>1004</td>\n",
       "      <td>0</td>\n",
       "      <td>2017-01-01 03:11:54 AM</td>\n",
       "      <td>1</td>\n",
       "    </tr>\n",
       "    <tr>\n",
       "      <th>5</th>\n",
       "      <td>1005</td>\n",
       "      <td>1</td>\n",
       "      <td>2017-12-16 01:39:27 AM</td>\n",
       "      <td>2</td>\n",
       "    </tr>\n",
       "    <tr>\n",
       "      <th>6</th>\n",
       "      <td>1006</td>\n",
       "      <td>1</td>\n",
       "      <td>2017-05-09 03:27:20 PM</td>\n",
       "      <td>3</td>\n",
       "    </tr>\n",
       "    <tr>\n",
       "      <th>7</th>\n",
       "      <td>1007</td>\n",
       "      <td>0</td>\n",
       "      <td>2017-01-01 03:59:50 PM</td>\n",
       "      <td>1</td>\n",
       "    </tr>\n",
       "    <tr>\n",
       "      <th>8</th>\n",
       "      <td>1008</td>\n",
       "      <td>0</td>\n",
       "      <td>2017-12-17 05:47:48 AM</td>\n",
       "      <td>3</td>\n",
       "    </tr>\n",
       "    <tr>\n",
       "      <th>9</th>\n",
       "      <td>1009</td>\n",
       "      <td>1</td>\n",
       "      <td>2017-01-01 07:27:17 PM</td>\n",
       "      <td>1</td>\n",
       "    </tr>\n",
       "  </tbody>\n",
       "</table>\n",
       "</div>"
      ],
      "text/plain": [
       "   customer_id  gender  most_recent_order_date  order_count\n",
       "0         1000       0  2017-01-01 12:11:31 AM            1\n",
       "1         1001       0  2017-01-01 12:29:56 AM            1\n",
       "2         1002       1  2017-02-19 09:35:31 PM            3\n",
       "3         1003       1  2017-04-26 02:37:20 AM            4\n",
       "4         1004       0  2017-01-01 03:11:54 AM            1\n",
       "5         1005       1  2017-12-16 01:39:27 AM            2\n",
       "6         1006       1  2017-05-09 03:27:20 PM            3\n",
       "7         1007       0  2017-01-01 03:59:50 PM            1\n",
       "8         1008       0  2017-12-17 05:47:48 AM            3\n",
       "9         1009       1  2017-01-01 07:27:17 PM            1"
      ]
     },
     "execution_count": 74,
     "metadata": {},
     "output_type": "execute_result"
    }
   ],
   "source": [
    "def convert_to_12_hours_datetime_format(x):\n",
    "     return datetime.strftime(x, DATE_FORMAT_12_HOURS)\n",
    "    \n",
    "grouped = df.groupby(by=['customer_id', 'gender'], as_index=False)\n",
    "qs_a = grouped.agg({\"date\": \"max\", \"value\": \"size\"})\n",
    "qs_a.rename({\"date\": \"most_recent_order_date\", \"value\": \"order_count\"}, axis=1, inplace=True)\n",
    "qs_a['most_recent_order_date'] = qs_a['most_recent_order_date'].apply(convert_to_12_hours_datetime_format)\n",
    "# print out the result\n",
    "qs_a.sort_values(by='customer_id', ascending=True).head(n=10)"
   ]
  },
  {
   "cell_type": "markdown",
   "metadata": {},
   "source": [
    "# Solution to Problem B"
   ]
  },
  {
   "cell_type": "code",
   "execution_count": 58,
   "metadata": {},
   "outputs": [
    {
     "data": {
      "image/png": "[encoded data removed]",
      "text/plain": [
       "<Figure size 1080x720 with 1 Axes>"
      ]
     },
     "metadata": {
      "needs_background": "light"
     },
     "output_type": "display_data"
    }
   ],
   "source": [
    "df[\"week_number_of_year\"] = df[\"date\"].dt.week\n",
    "grouped = df.groupby(by=['week_number_of_year'], as_index=False)\n",
    "qs_b = grouped.agg({\"date\": \"size\"})\n",
    "qs_b.rename({'date': 'count_of_orders'}, axis=1, inplace=True)\n",
    "ax = qs_b.plot.bar(x='week_number_of_year', y='count_of_orders', legend=False, figsize=(15, 10))\n",
    "for p in ax.patches:\n",
    "    ax.annotate(str(p.get_height()), (p.get_x() - 0.08, p.get_height() + 2.5), fontsize=6, fontweight='bold')\n",
    "ax.set_xlabel(\"Week Number of Year\", fontweight='bold', fontsize=14)\n",
    "ax.set_ylabel(\"Count of Orders\", fontweight='bold', fontsize=14)\n",
    "ax.set_title('Count of Orders per Week', fontweight='bold', fontsize=18)\n",
    "plt.show()"
   ]
  },
  {
   "cell_type": "markdown",
   "metadata": {},
   "source": [
    "# Solution to Problem C"
   ]
  },
  {
   "cell_type": "code",
   "execution_count": 59,
   "metadata": {},
   "outputs": [],
   "source": [
    "# segregating customers with gender 0 and gender 1\n",
    "order_gen_0 = df[df['gender'] == 0]['value']\n",
    "order_gen_1 = df[df['gender'] == 1]['value']"
   ]
  },
  {
   "cell_type": "code",
   "execution_count": 60,
   "metadata": {},
   "outputs": [
    {
     "name": "stdout",
     "output_type": "stream",
     "text": [
      "Mean Order Values of Gender 0 =  363.89\n",
      "Mean Order Values of Gender 1 =  350.71\n"
     ]
    }
   ],
   "source": [
    "# calculating the means order values of Customers with Gender 0 and Customers with Gender 1\n",
    "print (\"Mean Order Values of Gender 0 = \", round(order_gen_0.mean(), 2))\n",
    "print (\"Mean Order Values of Gender 1 = \", round(order_gen_1.mean(), 2))"
   ]
  },
  {
   "cell_type": "markdown",
   "metadata": {},
   "source": [
    "In order to test for Significance of Difference between the two means, the first thing that I try is: <br>\n",
    "### 2-sample t-Test\n",
    "The __Null Hypothesis__: The Means are equal <br><br>\n",
    "The __Assumptions__:\n",
    "- The Variances of the two populations are equal\n",
    "- The samples are independently and randomly drawn\n",
    "- The distribution of the residuals between the two groups should follow the normal distribution"
   ]
  },
  {
   "cell_type": "markdown",
   "metadata": {},
   "source": [
    "#### Checking for Assumption Validations to see if the 2-sample t-Test results can be trusted\n",
    " 1.  __Homogeneity of variances__: For this , we use the __Lavene's Test__ (__Null Hypothesis__: All input samples are from populations with equal variances)\n"
   ]
  },
  {
   "cell_type": "code",
   "execution_count": 61,
   "metadata": {},
   "outputs": [
    {
     "data": {
      "text/plain": [
       "LeveneResult(statistic=5.523015358033226, pvalue=0.018782230716425024)"
      ]
     },
     "execution_count": 61,
     "metadata": {},
     "output_type": "execute_result"
    }
   ],
   "source": [
    "stats.levene(order_gen_0, order_gen_1)"
   ]
  },
  {
   "cell_type": "markdown",
   "metadata": {},
   "source": [
    "Since the p-value is below the standard 5% (0.05) mark, this leads us to conclude that there is evidence against the null hypothesis. Hence, there is no homogeneity of variances amongst the two input samples. Hence, we __cannot use__ the 2-Sample t-Test directly. Hence we move on to the next option in these kinds of situations:\n",
    "### Welch's t-test\n",
    "This test is commonly used when there is violation in the assumption of equality of variances\n",
    "<br><br>The __Null Hypothesis__: The Means are equal <br><br>\n",
    "The __Assumptions__:\n",
    "- The samples are independently and randomly drawn\n",
    "- The distribution of the residuals between the two groups should follow the normal distribution"
   ]
  },
  {
   "cell_type": "markdown",
   "metadata": {},
   "source": [
    "#### Checking for Assumption Validations to see if the 2-sample t-Test results can be trusted\n",
    "1.  I happened to assume that the samples are randomly drawn and as per my understanding of the dataset, the order values are independent. \n",
    "  <br> Hence, it would be safe to conclude that this assumption is met\n",
    "\n",
    "2. For the normality test, I would plot a p-p graph and use the Shapiro-Wilk test for both the samples:"
   ]
  },
  {
   "cell_type": "code",
   "execution_count": 62,
   "metadata": {},
   "outputs": [
    {
     "data": {
      "text/plain": [
       "Text(0.5, 1.0, 'Orders of Gender 0 P-P Plot')"
      ]
     },
     "execution_count": 62,
     "metadata": {},
     "output_type": "execute_result"
    },
    {
     "data": {
      "image/png": "[encoded data removed]",
      "text/plain": [
       "<Figure size 432x288 with 1 Axes>"
      ]
     },
     "metadata": {
      "needs_background": "light"
     },
     "output_type": "display_data"
    }
   ],
   "source": [
    "##  Testing for Gender 0\n",
    "stats.probplot(order_gen_0, plot=plt)\n",
    "plt.title('Orders of Gender 0 P-P Plot')"
   ]
  },
  {
   "cell_type": "code",
   "execution_count": 63,
   "metadata": {},
   "outputs": [
    {
     "name": "stdout",
     "output_type": "stream",
     "text": [
      "W for Gender 0 Samples is  0.6567721366882324\n",
      "P-value for Gender 0 Samples is  0.0\n"
     ]
    }
   ],
   "source": [
    "## Shapiro-Wilk test for Gender 0 samples\n",
    "w_shapiro_0, p_value_shapiro_0 = stats.shapiro(order_gen_0)\n",
    "print('W for Gender 0 Samples is ', w_shapiro_0)\n",
    "print('P-value for Gender 0 Samples is ', p_value_shapiro_0)"
   ]
  },
  {
   "cell_type": "markdown",
   "metadata": {},
   "source": [
    "#### The P-P Plot and the P-Value from Shapiro-Wilk test clearly shows that the Gender 0 samples were not drawn froma Normal Distribution <br>"
   ]
  },
  {
   "cell_type": "code",
   "execution_count": 64,
   "metadata": {},
   "outputs": [
    {
     "data": {
      "text/plain": [
       "Text(0.5, 1.0, 'Orders of Gender 1 P-P Plot')"
      ]
     },
     "execution_count": 64,
     "metadata": {},
     "output_type": "execute_result"
    },
    {
     "data": {
      "image/png": "[encoded data removed]",
      "text/plain": [
       "<Figure size 432x288 with 1 Axes>"
      ]
     },
     "metadata": {
      "needs_background": "light"
     },
     "output_type": "display_data"
    }
   ],
   "source": [
    "##  Testing for Gender 1\n",
    "stats.probplot(order_gen_1, plot=plt)\n",
    "plt.title('Orders of Gender 1 P-P Plot')"
   ]
  },
  {
   "cell_type": "code",
   "execution_count": 65,
   "metadata": {},
   "outputs": [
    {
     "name": "stdout",
     "output_type": "stream",
     "text": [
      "W for Gender 1 Samples is  0.6406265497207642\n",
      "P-value for Gender 1 Samples is  0.0\n"
     ]
    }
   ],
   "source": [
    "## Shapiro-Wilk test for Gender 1 samples\n",
    "w_shapiro_1, p_value_shapiro_1 = stats.shapiro(order_gen_1)\n",
    "print('W for Gender 1 Samples is ', w_shapiro_1)\n",
    "print('P-value for Gender 1 Samples is ', p_value_shapiro_1)"
   ]
  },
  {
   "cell_type": "markdown",
   "metadata": {},
   "source": [
    "#### The P-P Plot and the P-Value from Shapiro-Wilk test clearly shows that the Gender 1 samples were not drawn froma Normal Distribution <br>"
   ]
  },
  {
   "cell_type": "markdown",
   "metadata": {},
   "source": [
    "Although, the Normality assumption has failed, but in general if the __sample size is large enough (usually more than 50)__, we may ignore this assumption. Here are the 2 sample sizes:"
   ]
  },
  {
   "cell_type": "code",
   "execution_count": 66,
   "metadata": {},
   "outputs": [
    {
     "name": "stdout",
     "output_type": "stream",
     "text": [
      "Sample Size of Gender 0 Orders 6759\n",
      "Sample Size of Gender 1 Orders 6712\n"
     ]
    }
   ],
   "source": [
    "print('Sample Size of Gender 0 Orders', len(order_gen_0))\n",
    "print('Sample Size of Gender 1 Orders', len(order_gen_1))"
   ]
  },
  {
   "cell_type": "markdown",
   "metadata": {},
   "source": [
    "#### The above sample sizes are large enough to continue with the Welch's t-test"
   ]
  },
  {
   "cell_type": "code",
   "execution_count": 67,
   "metadata": {},
   "outputs": [
    {
     "data": {
      "text/plain": [
       "Ttest_indResult(statistic=1.976107933576866, pvalue=0.04816296295128402)"
      ]
     },
     "execution_count": 67,
     "metadata": {},
     "output_type": "execute_result"
    }
   ],
   "source": [
    "stats.ttest_ind(order_gen_0, order_gen_1, equal_var = False)"
   ]
  },
  {
   "cell_type": "markdown",
   "metadata": {},
   "source": [
    "### Thus, as the p-value is less than the standard 0.05 mark we could conclude that there is a statistically significant difference between the Mean of Gender 0 and Gender 1 customer order values.\n",
    "Assuming the Means are the same for the entire population of Gender 0 and Gender 1 Order Values, we would obtain the sample effect, or larger, in 4.8% of studies because of random sampling error."
   ]
  },
  {
   "cell_type": "markdown",
   "metadata": {},
   "source": [
    "# Solution to Problem D"
   ]
  },
  {
   "cell_type": "code",
   "execution_count": 68,
   "metadata": {},
   "outputs": [
    {
     "name": "stdout",
     "output_type": "stream",
     "text": [
      "[[3349 3410]\n",
      " [1463 5249]]\n"
     ]
    }
   ],
   "source": [
    "cm = confusion_matrix(df['gender'], df['predicted_gender'], labels=[0, 1])\n",
    "print (cm)"
   ]
  },
  {
   "cell_type": "markdown",
   "metadata": {},
   "source": [
    "The above confusion Matrix represents the following:\n",
    "    - Out of the total 6759 Customers with Actually Gender 0, only 3349 were classified correctly by the model. The rest 3410 were wrongly classified as Gender 1\n",
    "    - Out of the total 6712 Customers with Actually Gender 1, only 5249 were classified correctly by the model. The rest 1463 were wrongly classified as Gender 0"
   ]
  },
  {
   "cell_type": "code",
   "execution_count": 69,
   "metadata": {},
   "outputs": [],
   "source": [
    "tn, fp, fn, tp = cm.ravel()"
   ]
  },
  {
   "cell_type": "markdown",
   "metadata": {},
   "source": [
    "Formally we could say the following if 0 and 1 had some deeper connotation than Genders:"
   ]
  },
  {
   "cell_type": "code",
   "execution_count": 70,
   "metadata": {},
   "outputs": [
    {
     "name": "stdout",
     "output_type": "stream",
     "text": [
      "True Negative is :  3349\n",
      "False Positive is :  3410\n",
      "False Negative is :  1463\n",
      "True Positive is :  5249\n"
     ]
    }
   ],
   "source": [
    "print('True Negative is : ', tn)\n",
    "print('False Positive is : ', fp)\n",
    "print('False Negative is : ', fn)\n",
    "print('True Positive is : ', tp)"
   ]
  },
  {
   "cell_type": "markdown",
   "metadata": {},
   "source": [
    "But the above doesn't really make sense as 0 and 1 in this case doesn't relate to any positive or negative cases. It would be safe to assume that predicting Gender 0 is equally important as predicting Gender 1. To explain it more lucidly, the importance of Recall and Precision for both the classes are equally important. "
   ]
  },
  {
   "cell_type": "code",
   "execution_count": 71,
   "metadata": {},
   "outputs": [
    {
     "name": "stdout",
     "output_type": "stream",
     "text": [
      "Recall for Gender 0 samples is  0.495487498150614\n",
      "Recall for Gender 1 samples is  0.7820321811680572\n"
     ]
    }
   ],
   "source": [
    "recall_0 = tn/(tn+fp)\n",
    "recall_1 = tp/(tp+fn)\n",
    "print ('Recall for Gender 0 samples is ', recall_0)\n",
    "print ('Recall for Gender 1 samples is ', recall_1)"
   ]
  },
  {
   "cell_type": "markdown",
   "metadata": {},
   "source": [
    "This means the model is better at predicting Gender 1 when samples are actually of Gender 1.  "
   ]
  },
  {
   "cell_type": "code",
   "execution_count": 72,
   "metadata": {},
   "outputs": [
    {
     "name": "stdout",
     "output_type": "stream",
     "text": [
      "Precision for Gender 0 samples is  0.6959684123025769\n",
      "Precision for Gender 1 samples is  0.6061900912345537\n"
     ]
    }
   ],
   "source": [
    "precision_0 = tn/(tn+fn)\n",
    "precision_1 = tp/(tp+fp)\n",
    "print ('Precision for Gender 0 samples is ', precision_0)\n",
    "print ('Precision for Gender 1 samples is ', precision_1)"
   ]
  },
  {
   "cell_type": "markdown",
   "metadata": {},
   "source": [
    "This means when the model Predicts a Gender 0, it has a higher chance of being correct than when it Predicts Gender 1"
   ]
  },
  {
   "cell_type": "code",
   "execution_count": 73,
   "metadata": {},
   "outputs": [
    {
     "name": "stdout",
     "output_type": "stream",
     "text": [
      "F1 Score for Gender 0 samples is  0.578860945467116\n",
      "F1 Score for Gender 1 samples is  0.6829744323726498\n"
     ]
    }
   ],
   "source": [
    "f1_0 = (2*recall_0*precision_0) / (precision_0 + recall_0)\n",
    "f1_1 = (2*recall_1*precision_1) / (precision_1 + recall_1)\n",
    "print ('F1 Score for Gender 0 samples is ', f1_0)\n",
    "print ('F1 Score for Gender 1 samples is ', f1_1)"
   ]
  },
  {
   "cell_type": "markdown",
   "metadata": {},
   "source": [
    "Thus, we see from the confusion matrix as well as from the F1 measure that the __model is more biased towards recognizing Gender 1__. "
   ]
  },
  {
   "cell_type": "markdown",
   "metadata": {},
   "source": [
    "# Solution to Problem E "
   ]
  },
  {
   "cell_type": "markdown",
   "metadata": {},
   "source": [
    "Recently, I used Random Forest Gini Impurity based Feature Ranking Technique. This helped me immensely to quickly present and explain to a client why we were using the indicators (features), that we had derieved or directly available, in a model. Plotting a Feature Ranking graph based on the Information Gain made the presentation go extremely smoothly and the clients (who were mostly from the business side and not deep into Data Science) were able to grasp the concept and meaning quite easily. "
   ]
  }
 ],
 "metadata": {
  "kernelspec": {
   "display_name": "Python 3",
   "language": "python",
   "name": "python3"
  },
  "language_info": {
   "codemirror_mode": {
    "name": "ipython",
    "version": 3
   },
   "file_extension": ".py",
   "mimetype": "text/x-python",
   "name": "python",
   "nbconvert_exporter": "python",
   "pygments_lexer": "ipython3",
   "version": "3.7.3"
  }
 },
 "nbformat": 4,
 "nbformat_minor": 2
}
